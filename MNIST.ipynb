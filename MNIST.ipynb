{
  "nbformat": 4,
  "nbformat_minor": 0,
  "metadata": {
    "colab": {
      "provenance": [],
      "collapsed_sections": []
    },
    "kernelspec": {
      "name": "python3",
      "display_name": "Python 3"
    },
    "language_info": {
      "name": "python"
    },
    "accelerator": "GPU"
  },
  "cells": [
    {
      "cell_type": "markdown",
      "source": [
        "# Dataset\n",
        "MINST 데이터 셋을 이용하여 손글씨 데이터 셋을 불러옵니다."
      ],
      "metadata": {
        "id": "Z3OdAajyQ7VR"
      }
    },
    {
      "cell_type": "code",
      "execution_count": 21,
      "metadata": {
        "id": "9IHcGl3TKIKv",
        "colab": {
          "base_uri": "https://localhost:8080/"
        },
        "outputId": "4971d65a-54a0-468d-9149-7ab0ffd12dd7"
      },
      "outputs": [
        {
          "output_type": "stream",
          "name": "stdout",
          "text": [
            "(60000, 28, 28) (10000, 28, 28)\n",
            "(60000,) (10000,)\n"
          ]
        }
      ],
      "source": [
        "from tensorflow.keras.datasets import mnist\n",
        "import numpy as np\n",
        "(x_train,y_train),(x_test,y_test) = mnist.load_data()\n",
        "print(x_train.shape,x_test.shape)\n",
        "print(y_train.shape,y_test.shape)"
      ]
    },
    {
      "cell_type": "markdown",
      "source": [
        "실제 데이터 셋에 어떤 형식으로 들어가 있는지 간단하게 확인해 봅시다"
      ],
      "metadata": {
        "id": "a8k7n2XGRUs0"
      }
    },
    {
      "cell_type": "code",
      "source": [
        "import matplotlib.pyplot as plt\n",
        "import random\n",
        "for i in range(1,4,1):\n",
        "    for j in range(1,4,1):\n",
        "        plt.subplot(i,4,j)\n",
        "        plt.imshow(x_train[random.randint(0,60000)],cmap=\"gray\")\n",
        "    plt.show()"
      ],
      "metadata": {
        "id": "-OQbmoIELwoB",
        "colab": {
          "base_uri": "https://localhost:8080/",
          "height": 327
        },
        "outputId": "5ed93b31-93b5-4aae-bb35-2a51756ed4de"
      },
      "execution_count": 22,
      "outputs": [
        {
          "output_type": "display_data",
          "data": {
            "text/plain": [
              "<Figure size 432x288 with 3 Axes>"
            ],
            "image/png": "[encoded data removed]"
          },
          "metadata": {
            "needs_background": "light"
          }
        },
        {
          "output_type": "display_data",
          "data": {
            "text/plain": [
              "<Figure size 432x288 with 3 Axes>"
            ],
            "image/png": "[encoded data removed]"
          },
          "metadata": {
            "needs_background": "light"
          }
        },
        {
          "output_type": "display_data",
          "data": {
            "text/plain": [
              "<Figure size 432x288 with 3 Axes>"
            ],
            "image/png": "[encoded data removed]"
          },
          "metadata": {
            "needs_background": "light"
          }
        }
      ]
    },
    {
      "cell_type": "markdown",
      "source": [
        "데이터를 학습할 수 있는 형태로 변형시켜 줍니다"
      ],
      "metadata": {
        "id": "xHLAuIK3RZgH"
      }
    },
    {
      "cell_type": "code",
      "source": [
        "from tensorflow.keras.utils import to_categorical\n",
        "\n",
        "x_train = x_train.reshape(-1,28,28,1)/255.\n",
        "x_test = x_test.reshape(-1,28,28,1)/255.\n",
        "y_train = to_categorical(y_train)\n",
        "y_test = to_categorical(y_test)"
      ],
      "metadata": {
        "id": "s2IieKH_Lxy6"
      },
      "execution_count": 23,
      "outputs": []
    },
    {
      "cell_type": "code",
      "source": [
        "import matplotlib.pyplot as plt\n",
        "from tensorflow.keras.models import Sequential\n",
        "from tensorflow.keras.layers import Dense,Flatten,BatchNormalization,Conv2D"
      ],
      "metadata": {
        "id": "d8WlEZmKLy-_"
      },
      "execution_count": 24,
      "outputs": []
    },
    {
      "cell_type": "markdown",
      "source": [
        "#모델 생성"
      ],
      "metadata": {
        "id": "n_qSGw0DUxGW"
      }
    },
    {
      "cell_type": "code",
      "source": [
        "model = Sequential()\n",
        "model.add(Conv2D(32,(2,2),activation=\"relu\",input_shape=(28,28,1)))\n",
        "model.add(BatchNormalization())\n",
        "model.add(Conv2D(64,(2,2),activation=\"relu\"))\n",
        "model.add(BatchNormalization())\n",
        "model.add(Conv2D(128,(2,2),2,activation=\"relu\"))\n",
        "model.add(BatchNormalization())\n",
        "model.add(Conv2D(32,(2,2),activation=\"relu\"))\n",
        "model.add(BatchNormalization())\n",
        "model.add(Conv2D(64,(2,2),activation=\"relu\"))\n",
        "model.add(BatchNormalization())\n",
        "model.add(Conv2D(128,(2,2),2,activation=\"relu\"))\n",
        "model.add(BatchNormalization())\n",
        "model.add(Flatten())\n",
        "model.add(Dense(128,activation=\"relu\"))\n",
        "model.add(Dense(10,activation=\"softmax\"))"
      ],
      "metadata": {
        "id": "UzEtSIWDL0CG"
      },
      "execution_count": 25,
      "outputs": []
    },
    {
      "cell_type": "markdown",
      "source": [
        "#모델 학습\n"
      ],
      "metadata": {
        "id": "G4JgZUB9ZRND"
      }
    },
    {
      "cell_type": "code",
      "source": [
        "model.compile(loss = \"categorical_crossentropy\",optimizer = \"adam\",metrics=[\"acc\"])\n",
        "history = model.fit(x_train,y_train,validation_data=(x_test,y_test),epochs=30,batch_size=256)"
      ],
      "metadata": {
        "id": "S-nh9z6qL1ui",
        "colab": {
          "base_uri": "https://localhost:8080/"
        },
        "outputId": "f4b6b59f-165b-4ede-d583-4e650335ac31"
      },
      "execution_count": 26,
      "outputs": [
        {
          "output_type": "stream",
          "name": "stdout",
          "text": [
            "Epoch 1/30\n",
            "235/235 [==============================] - 8s 29ms/step - loss: 0.1293 - acc: 0.9592 - val_loss: 2.9682 - val_acc: 0.3264\n",
            "Epoch 2/30\n",
            "235/235 [==============================] - 7s 30ms/step - loss: 0.0306 - acc: 0.9905 - val_loss: 0.1114 - val_acc: 0.9657\n",
            "Epoch 3/30\n",
            "235/235 [==============================] - 7s 28ms/step - loss: 0.0176 - acc: 0.9943 - val_loss: 0.0504 - val_acc: 0.9840\n",
            "Epoch 4/30\n",
            "235/235 [==============================] - 7s 28ms/step - loss: 0.0125 - acc: 0.9963 - val_loss: 0.0396 - val_acc: 0.9894\n",
            "Epoch 5/30\n",
            "235/235 [==============================] - 7s 29ms/step - loss: 0.0097 - acc: 0.9967 - val_loss: 0.0442 - val_acc: 0.9884\n",
            "Epoch 6/30\n",
            "235/235 [==============================] - 7s 28ms/step - loss: 0.0091 - acc: 0.9966 - val_loss: 0.0392 - val_acc: 0.9893\n",
            "Epoch 7/30\n",
            "235/235 [==============================] - 7s 28ms/step - loss: 0.0080 - acc: 0.9973 - val_loss: 0.0599 - val_acc: 0.9862\n",
            "Epoch 8/30\n",
            "235/235 [==============================] - 7s 28ms/step - loss: 0.0125 - acc: 0.9962 - val_loss: 0.0588 - val_acc: 0.9858\n",
            "Epoch 9/30\n",
            "235/235 [==============================] - 7s 28ms/step - loss: 0.0103 - acc: 0.9965 - val_loss: 0.0449 - val_acc: 0.9896\n",
            "Epoch 10/30\n",
            "235/235 [==============================] - 7s 28ms/step - loss: 0.0058 - acc: 0.9981 - val_loss: 0.0429 - val_acc: 0.9909\n",
            "Epoch 11/30\n",
            "235/235 [==============================] - 7s 28ms/step - loss: 0.0038 - acc: 0.9984 - val_loss: 0.0361 - val_acc: 0.9917\n",
            "Epoch 12/30\n",
            "235/235 [==============================] - 7s 28ms/step - loss: 0.0067 - acc: 0.9979 - val_loss: 0.0533 - val_acc: 0.9880\n",
            "Epoch 13/30\n",
            "235/235 [==============================] - 7s 28ms/step - loss: 0.0076 - acc: 0.9977 - val_loss: 0.0568 - val_acc: 0.9896\n",
            "Epoch 14/30\n",
            "235/235 [==============================] - 7s 28ms/step - loss: 0.0071 - acc: 0.9976 - val_loss: 0.0465 - val_acc: 0.9905\n",
            "Epoch 15/30\n",
            "235/235 [==============================] - 7s 28ms/step - loss: 0.0051 - acc: 0.9985 - val_loss: 0.0572 - val_acc: 0.9892\n",
            "Epoch 16/30\n",
            "235/235 [==============================] - 7s 28ms/step - loss: 0.0037 - acc: 0.9988 - val_loss: 0.0469 - val_acc: 0.9909\n",
            "Epoch 17/30\n",
            "235/235 [==============================] - 7s 28ms/step - loss: 0.0057 - acc: 0.9982 - val_loss: 0.0650 - val_acc: 0.9878\n",
            "Epoch 18/30\n",
            "235/235 [==============================] - 7s 28ms/step - loss: 0.0086 - acc: 0.9970 - val_loss: 0.0775 - val_acc: 0.9852\n",
            "Epoch 19/30\n",
            "235/235 [==============================] - 7s 28ms/step - loss: 0.0064 - acc: 0.9980 - val_loss: 0.0421 - val_acc: 0.9915\n",
            "Epoch 20/30\n",
            "235/235 [==============================] - 7s 28ms/step - loss: 0.0018 - acc: 0.9995 - val_loss: 0.0453 - val_acc: 0.9904\n",
            "Epoch 21/30\n",
            "235/235 [==============================] - 7s 28ms/step - loss: 0.0044 - acc: 0.9989 - val_loss: 0.0587 - val_acc: 0.9905\n",
            "Epoch 22/30\n",
            "235/235 [==============================] - 7s 28ms/step - loss: 0.0036 - acc: 0.9988 - val_loss: 0.0525 - val_acc: 0.9907\n",
            "Epoch 23/30\n",
            "235/235 [==============================] - 7s 28ms/step - loss: 0.0056 - acc: 0.9982 - val_loss: 0.0582 - val_acc: 0.9902\n",
            "Epoch 24/30\n",
            "235/235 [==============================] - 7s 28ms/step - loss: 0.0036 - acc: 0.9988 - val_loss: 0.0623 - val_acc: 0.9885\n",
            "Epoch 25/30\n",
            "235/235 [==============================] - 7s 28ms/step - loss: 0.0059 - acc: 0.9982 - val_loss: 0.0757 - val_acc: 0.9868\n",
            "Epoch 26/30\n",
            "235/235 [==============================] - 7s 28ms/step - loss: 0.0058 - acc: 0.9982 - val_loss: 0.0495 - val_acc: 0.9921\n",
            "Epoch 27/30\n",
            "235/235 [==============================] - 7s 29ms/step - loss: 6.3198e-04 - acc: 0.9998 - val_loss: 0.0437 - val_acc: 0.9916\n",
            "Epoch 28/30\n",
            "235/235 [==============================] - 7s 28ms/step - loss: 0.0012 - acc: 0.9997 - val_loss: 0.0413 - val_acc: 0.9922\n",
            "Epoch 29/30\n",
            "235/235 [==============================] - 7s 28ms/step - loss: 2.1631e-04 - acc: 0.9999 - val_loss: 0.0357 - val_acc: 0.9935\n",
            "Epoch 30/30\n",
            "235/235 [==============================] - 7s 28ms/step - loss: 4.0044e-05 - acc: 1.0000 - val_loss: 0.0354 - val_acc: 0.9941\n"
          ]
        }
      ]
    },
    {
      "cell_type": "code",
      "source": [
        "loss = history.history[\"loss\"]\n",
        "acc = history.history[\"acc\"]\n",
        "val_loss = history.history[\"val_loss\"]\n",
        "val_acc = history.history[\"val_acc\"]\n",
        "plt.subplot(1,2,1)\n",
        "plt.plot(range(len(loss)),loss,label = \"Train Loss\")\n",
        "plt.plot(range(len(val_loss)),val_loss,label = \"Validation Loss\")\n",
        "plt.grid()\n",
        "plt.legend()\n",
        "plt.subplot(1,2,2)\n",
        "plt.plot(range(len(acc)),acc,label = \"Train Accuracy\")\n",
        "plt.plot(range(len(val_acc)),val_acc,label = \"Validation Accuracy\")\n",
        "plt.grid()\n",
        "plt.legend()\n",
        "plt.show()"
      ],
      "metadata": {
        "id": "ROL1OZBFL3qR",
        "colab": {
          "base_uri": "https://localhost:8080/",
          "height": 265
        },
        "outputId": "ee805ebf-74b7-48c9-dfc0-ab68d9dd22ce"
      },
      "execution_count": 27,
      "outputs": [
        {
          "output_type": "display_data",
          "data": {
            "text/plain": [
              "<Figure size 432x288 with 2 Axes>"
            ],
            "image/png": "[encoded data removed]"
          },
          "metadata": {
            "needs_background": "light"
          }
        }
      ]
    },
    {
      "cell_type": "code",
      "source": [
        "index =random.randint(0,9999)\n",
        "img = x_test[index].reshape(28,28)\n",
        "img.shape"
      ],
      "metadata": {
        "id": "oPoZNXwgOmyX",
        "colab": {
          "base_uri": "https://localhost:8080/"
        },
        "outputId": "5471fca8-cb37-4b1c-9632-fd107cdd2223"
      },
      "execution_count": 28,
      "outputs": [
        {
          "output_type": "execute_result",
          "data": {
            "text/plain": [
              "(28, 28)"
            ]
          },
          "metadata": {},
          "execution_count": 28
        }
      ]
    },
    {
      "cell_type": "code",
      "source": [
        "index =random.randint(0,9999)\n",
        "plt.imshow(x_test[index].reshape(28,28), cmap=\"gray\") \n",
        "predict = model.predict(x_test[index].reshape(1,28,28,1))\n",
        "print(\"Actual : {}\\tPredict : {}\".format(np.argmax(y_test[index]),np.argmax(predict)),)"
      ],
      "metadata": {
        "id": "1m9mkHQEL5uu",
        "colab": {
          "base_uri": "https://localhost:8080/",
          "height": 283
        },
        "outputId": "3218a44a-d3e5-44ee-fd0b-be1ce64cf77e"
      },
      "execution_count": 29,
      "outputs": [
        {
          "output_type": "stream",
          "name": "stdout",
          "text": [
            "Actual : 6\tPredict : 6\n"
          ]
        },
        {
          "output_type": "display_data",
          "data": {
            "text/plain": [
              "<Figure size 432x288 with 1 Axes>"
            ],
            "image/png": "[encoded data removed]"
          },
          "metadata": {
            "needs_background": "light"
          }
        }
      ]
    },
    {
      "cell_type": "markdown",
      "source": [
        "# 틀린 문제 확인"
      ],
      "metadata": {
        "id": "m-RXyTqGZiLS"
      }
    },
    {
      "cell_type": "code",
      "source": [
        "wrong_index_list=[]\n",
        "predict = model.predict(x_test)\n",
        "for index in range(10000):\n",
        "    if np.argmax(y_test[index]) != np.argmax(predict[index]):\n",
        "        wrong_index_list.append(index)\n",
        "print(wrong_index_list)\n",
        "print(\"총 틀린 갯수 : \",len(wrong_index_list))"
      ],
      "metadata": {
        "id": "GxA45ILrNtZQ",
        "colab": {
          "base_uri": "https://localhost:8080/"
        },
        "outputId": "6b05fa98-cb58-494e-c770-1b08d935b75a"
      },
      "execution_count": 30,
      "outputs": [
        {
          "output_type": "stream",
          "name": "stdout",
          "text": [
            "[115, 247, 321, 340, 445, 582, 659, 716, 939, 947, 1014, 1039, 1114, 1226, 1232, 1242, 1247, 1414, 1530, 1709, 1901, 2035, 2130, 2293, 2414, 2462, 2488, 2597, 2654, 2896, 2921, 3073, 3225, 3422, 3520, 3727, 3808, 3926, 3941, 4176, 4199, 4205, 4248, 4571, 4740, 4823, 4860, 5937, 6597, 6625, 7235, 7545, 8325, 8527, 9009, 9015, 9642, 9729, 9770]\n",
            "총 틀린 갯수 :  59\n"
          ]
        }
      ]
    },
    {
      "cell_type": "code",
      "source": [
        "new_index = random.choice(wrong_index_list)\n",
        "plt.imshow(x_test[new_index].reshape(28,28),cmap=\"gray\")\n",
        "print(\"Actual : {}\\tPredict : {}\".format(np.argmax(y_test[new_index]),np.argmax(new_index)),)"
      ],
      "metadata": {
        "id": "s_daTR5kRfTY",
        "colab": {
          "base_uri": "https://localhost:8080/",
          "height": 283
        },
        "outputId": "92e7af3b-018b-46df-822c-78a9eebb48b4"
      },
      "execution_count": 31,
      "outputs": [
        {
          "output_type": "stream",
          "name": "stdout",
          "text": [
            "Actual : 9\tPredict : 0\n"
          ]
        },
        {
          "output_type": "display_data",
          "data": {
            "text/plain": [
              "<Figure size 432x288 with 1 Axes>"
            ],
            "image/png": "[encoded data removed]"
          },
          "metadata": {
            "needs_background": "light"
          }
        }
      ]
    },
    {
      "cell_type": "markdown",
      "source": [
        "# 아래 부분은 추가적인 수행부분입니다!"
      ],
      "metadata": {
        "id": "MWTIAlz6Zn9f"
      }
    },
    {
      "cell_type": "code",
      "source": [
        "import cv2\n",
        "from google.colab.patches import cv2_imshow\n",
        "from google.colab import drive\n",
        "drive.mount('/content/gdrive')\n",
        "\n"
      ],
      "metadata": {
        "id": "uOeKi_t4Rhfu",
        "colab": {
          "base_uri": "https://localhost:8080/"
        },
        "outputId": "dac336a3-3c5e-4ecd-e98e-20f626dd7c1c"
      },
      "execution_count": 32,
      "outputs": [
        {
          "output_type": "stream",
          "name": "stdout",
          "text": [
            "Drive already mounted at /content/gdrive; to attempt to forcibly remount, call drive.mount(\"/content/gdrive\", force_remount=True).\n"
          ]
        }
      ]
    },
    {
      "cell_type": "code",
      "source": [
        "imgfile = \"/content/gdrive/My Drive/3.png\"\n",
        "img = cv2.imread(imgfile, cv2.IMREAD_GRAYSCALE)\n",
        "img = 255 - img\n",
        "cv2_imshow(img)"
      ],
      "metadata": {
        "id": "HI6um2eQWesB",
        "colab": {
          "base_uri": "https://localhost:8080/",
          "height": 45
        },
        "outputId": "d8a34dc3-a6b8-472a-9b17-e02c7210c62c"
      },
      "execution_count": 33,
      "outputs": [
        {
          "output_type": "display_data",
          "data": {
            "text/plain": [
              "<PIL.Image.Image image mode=L size=28x28 at 0x7F3CB82AB6D0>"
            ],
            "image/png": "[encoded data removed]"
          },
          "metadata": {}
        }
      ]
    },
    {
      "cell_type": "code",
      "source": [
        "plt.imshow(img, cmap=\"gray\") \n",
        "predict = model.predict(img.reshape(1,28,28,1))\n",
        "print(\"Predict : {}\".format(np.argmax(predict)),)"
      ],
      "metadata": {
        "id": "eSLgFYTRWrv_",
        "colab": {
          "base_uri": "https://localhost:8080/",
          "height": 283
        },
        "outputId": "61ff3324-52a8-4187-90b0-47da2c747bf3"
      },
      "execution_count": 34,
      "outputs": [
        {
          "output_type": "stream",
          "name": "stdout",
          "text": [
            "Predict : 3\n"
          ]
        },
        {
          "output_type": "display_data",
          "data": {
            "text/plain": [
              "<Figure size 432x288 with 1 Axes>"
            ],
            "image/png": "[encoded data removed]"
          },
          "metadata": {
            "needs_background": "light"
          }
        }
      ]
    },
    {
      "cell_type": "markdown",
      "source": [
        "아래의 블로그를 참고하여 작성하였습니다.\n",
        "\n",
        "https://suhyun72.tistory.com/entry/Keras-MNIST-%EC%98%88%EC%A0%9C%EC%BD%94%EB%93%9C"
      ],
      "metadata": {
        "id": "3SrAR_hqfMKa"
      }
    },
    {
      "cell_type": "code",
      "source": [],
      "metadata": {
        "id": "ZbSD1qntXP_e"
      },
      "execution_count": 34,
      "outputs": []
    }
  ]
}